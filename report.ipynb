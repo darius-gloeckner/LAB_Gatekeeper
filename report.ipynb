{
 "cells": [
  {
   "cell_type": "markdown",
   "id": "381985c7",
   "metadata": {},
   "source": [
    "# ✅ Pull Request Workflow Summary\n",
    "\n",
    "## 1. We created a new branch  \n",
    "We started by branching off from `main` using a meaningful name for our feature:  \n",
    "`feature/your-feature-name`.\n",
    "\n",
    "## 2. We implemented the changes  \n",
    "On the new branch, we made our code changes, tested them locally, and committed everything with clear commit messages.\n",
    "\n",
    "## 3. We pushed the branch to GitHub  \n",
    "Once the changes were ready, we pushed the branch to the remote repository.\n",
    "\n",
    "## 4. We opened a Pull Request  \n",
    "On GitHub, we created a pull request targeting the `main` branch.  \n",
    "We included a descriptive title and a detailed summary explaining what the PR does and why it matters.\n",
    "\n",
    "## 5. We went through the review process  \n",
    "Our teammates reviewed the PR, provided feedback, and we made additional commits to address any requested changes.\n",
    "\n",
    "## 6. We got the necessary approvals  \n",
    "Once all concerns were addressed and checks passed, the PR was approved according to the repository’s review requirements.\n",
    "\n",
    "## 7. We merged the PR into main  \n",
    "After a final review, we merged the PR using the appropriate strategy (e.g., squash or rebase), ensuring a clean commit history.\n",
    "\n",
    "## 8. We deleted the feature branch  \n",
    "Finally, we deleted the feature branch both on GitHub and locally to keep the repository tidy."
   ]
  }
 ],
 "metadata": {
  "language_info": {
   "name": "python"
  }
 },
 "nbformat": 4,
 "nbformat_minor": 5
}
